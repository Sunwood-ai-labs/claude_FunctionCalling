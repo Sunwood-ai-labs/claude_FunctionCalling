{
    "cells": [
        {
            "cell_type": "markdown",
            "id": "20de56a8",
            "metadata": {},
            "source": [
                "# クロードを使った関数呼び出し"
            ]
        },
        {
            "cell_type": "markdown",
            "id": "8e7fe136",
            "metadata": {},
            "source": [
                "クロードにいくつかの関数の呼び出し方を教えてみましょう！\n",
                "\n",
                "これをいくつかの段階で行います。\n",
                "1. クロードに関数の説明と使い方を説明する。\n",
                "2. クロードにその関数の呼び出しが必要な何かをするように指示する。\n",
                "3. クロードが関数を呼び出したら、応答を一時停止し、コードで関数を呼び出す。\n",
                "4. もう一度クロードを呼び出し、コードから返された値を渡す。\n",
                "5. ユーザーに最終的な応答を返す。\n",
                "\n",
                "注：https://github.com/anthropics/anthropic-tools で、より自動化された関数呼び出しのリポジトリを見ることができます。このノートブックは、そのリポジトリの仕組みを詳しく説明することを目的としています。さらに、全体的な関数呼び出しのパフォーマンスと利便性はすぐに向上すると期待しています。"
            ]
        },
        {
            "cell_type": "markdown",
            "id": "e5e1a230",
            "metadata": {},
            "source": [
                "関数呼び出しは、大規模言語モデルの制限を回避するのに役立ちます。その1つが大きな数の掛け算です。これを実現する「電卓」関数を実装してみましょう。"
            ]
        },
        {
            "cell_type": "code",
            "execution_count": 3,
            "id": "fc39114b",
            "metadata": {},
            "outputs": [],
            "source": [
                "from anthropic import Anthropic\n",
                "import re \n",
                "client = Anthropic()\n",
                "MODEL_NAME = \"claude-3-opus-20240229\""
            ]
        },
        {
            "cell_type": "markdown",
            "id": "1e27c99c",
            "metadata": {},
            "source": [
                "まず、クロードのデフォルトの動作を見てみましょう。"
            ]
        },
        {
            "cell_type": "code",
            "execution_count": 4,
            "id": "c28ca1ad",
            "metadata": {},
            "outputs": [
                {
                    "name": "stdout",
                    "output_type": "stream",
                    "text": [
                        "1,984,135と9,343,116の掛け算は、標準的な掛け算のアルゴリズムを使用して計算できます。2番目の数の各桁に最初の数をかけ、その結果を足し合わせましょう。\n",
                        "\n",
                        " 1,984,135\n",
                        "x 9,343,116 \n",
                        "-----------\n",
                        " 11,904,810 (1,984,135 x 6)\n",
                        " 17,857,215 (1,984,135 x 9) \n",
                        " 13,888,945 (1,984,135 x 7)\n",
                        " 3,968,270 (1,984,135 x 2)\n",
                        " 1,984,135 (1,984,135 x 1)\n",
                        " 17,857,215 (1,984,135 x 9)\n",
                        " 11,904,810 (1,984,135 x 6) \n",
                        " 3,968,270 (1,984,135 x 2)\n",
                        " 17,857,215 (1,984,135 x 9)\n",
                        " 13,888,945 (1,984,135 x 7) \n",
                        " 15,873,080 (1,984,135 x 8)\n",
                        " 5,952,405 (1,984,135 x 3)\n",
                        "----------- \n",
                        "18,529,877,865,540\n",
                        "\n",
                        "よって、1,984,135と9,343,116の掛け算の答えは18,529,877,865,540です。\n"
                    ]
                }
            ],
            "source": [
                "multiplication_message = {\n",
                " \"role\": \"user\",\n",
                " \"content\": \"1,984,135と9,343,116をかけ算してください。\"\n",
                "}\n",
                "\n",
                "message = client.messages.create(\n",
                " model=MODEL_NAME, \n",
                " max_tokens=1024,\n",
                " messages=[multiplication_message] \n",
                ").content[0].text\n",
                "print(message)"
            ]
        },
        {
            "cell_type": "code",
            "execution_count": 6,
            "id": "d03d4bae",
            "metadata": {},
            "outputs": [
                {
                    "name": "stdout",
                    "output_type": "stream",
                    "text": [
                        "18,538,003,464,660\n"
                    ]
                }
            ],
            "source": [
                "answer = 1984135 * 9343116\n",
                "print(f\"{answer:,}\")"
            ]
        },
        {
            "cell_type": "markdown",
            "id": "0699a2f7",
            "metadata": {},
            "source": [
                "クロードの答えは正解の0.01%以内でしたが、正確ではありませんでした。それを修正しましょう。まず、電卓関数を定義します。"
            ]
        },
        {
            "cell_type": "code",
            "execution_count": 5,
            "id": "08626553",
            "metadata": {},
            "outputs": [],
            "source": [
                "def do_pairwise_arithmetic(num1, num2, operation):\n",
                " if operation == '+':\n",
                " return num1 + num2\n",
                " elif operation == \"-\":\n",
                " return num1 - num2 \n",
                " elif operation == \"*\":\n",
                " return num1 * num2\n",
                " elif operation == \"/\": \n",
                " return num1 / num2\n",
                " else:\n",
                " return \"エラー：サポートされていない演算です。\"\n"
            ]
        },
        {
            "cell_type": "markdown",
            "id": "39275885",
            "metadata": {},
            "source": [
                "次に、クロードに読ませるdocstringを書きます。"
            ]
        },
        {
            "cell_type": "code",
            "execution_count": 6,
            "id": "155e088a",
            "metadata": {},
            "outputs": [
                {
                    "name": "stdout",
                    "output_type": "stream",
                    "text": [
                        "<tool_description>\n",
                        "<tool_name>calculator</tool_name>\n",
                        "<description>\n",
                        "基本的な算術を行うための電卓関数です。\n",
                        "加算、減算、乗算をサポートしています。\n",
                        "</description>\n",
                        "<parameters>\n",
                        "<parameter>\n",
                        "<name>first_operand</name>\n",
                        "<type>int</type>\n",
                        "<description>第1オペランド（演算子の前）</description>\n",
                        "</parameter>\n",
                        "<parameter>\n",
                        "<name>second_operand</name>\n",
                        "<type>int</type>\n",
                        "<description>第2オペランド（演算子の後）</description>\n",
                        "</parameter>\n",
                        "<parameter>\n",
                        "<name>operator</name>\n",
                        "<type>str</type>\n",
                        "<description>実行する演算。+、-、*、/のいずれかでなければなりません</description>\n",
                        "</parameter>\n",
                        "</parameters>\n",
                        "</tool_description>\n"
                    ]
                }
            ],
            "source": [
                "def construct_format_tool_for_claude_prompt(name, description, parameters):\n",
                " constructed_prompt = (\n",
                " \"<tool_description>\\n\"\n",
                " f\"<tool_name>{name}</tool_name>\\n\"\n",
                " \"<description>\\n\"\n",
                " f\"{description}\\n\"\n",
                " \"</description>\\n\"\n",
                " \"<parameters>\\n\"\n",
                " f\"{construct_format_parameters_prompt(parameters)}\\n\"\n",
                " \"</parameters>\\n\"\n",
                " \"</tool_description>\"\n",
                " )\n",
                " return constructed_prompt\n",
                "\n",
                "tool_name = \"calculator\"\n",
                "tool_description = \"\"\"基本的な算術を行うための電卓関数です。\n",
                "加算、減算、乗算をサポートしています。\"\"\"\n",
                "\n",
                "def construct_format_parameters_prompt(parameters):\n",
                " constructed_prompt = \"\\n\".join(f\"<parameter>\\n<name>{parameter['name']}</name>\\n<type>{parameter['type']}</type>\\n<description>{parameter['description']}</description>\\n</parameter>\" for parameter in parameters) \n",
                "\n",
                " return constructed_prompt\n",
                "\n",
                "parameters = [\n",
                " {\n",
                " \"name\": \"first_operand\",\n",
                " \"type\": \"int\",\n",
                " \"description\": \"第1オペランド（演算子の前）\"\n",
                " },\n",
                " {\n",
                " \"name\": \"second_operand\", \n",
                " \"type\": \"int\",\n",
                " \"description\": \"第2オペランド（演算子の後）\"\n",
                " },\n",
                " {\n",
                " \"name\": \"operator\",\n",
                " \"type\": \"str\",\n",
                " \"description\": \"実行する演算。+、-、*、/のいずれかでなければなりません\"\n",
                " }\n",
                "]\n",
                "tool = construct_format_tool_for_claude_prompt(tool_name, tool_description, parameters)\n",
                "print(tool)"
            ]
        },
        {
            "cell_type": "markdown",
            "id": "64e94c65",
            "metadata": {},
            "source": [
                "この関数の説明を長いプロンプトテンプレートに挿入して、システムプロンプトを作成します。"
            ]
        },
        {
            "cell_type": "code",
            "execution_count": 7,
            "id": "6c066ac6",
            "metadata": {},
            "outputs": [
                {
                    "name": "stdout",
                    "output_type": "stream",
                    "text": [
                        "この環境では、ユーザーの質問に答えるための一連のツールにアクセスできます。\n",
                        "\n",
                        "次のように呼び出すことができます。\n",
                        "<function_calls>\n",
                        "<invoke> \n",
                        "<tool_name>$TOOL_NAME</tool_name>\n",
                        "<parameters>\n",
                        "<$PARAMETER_NAME>$PARAMETER_VALUE</$PARAMETER_NAME>\n",
                        "...\n",
                        "</parameters>\n",
                        "</invoke>\n",
                        "</function_calls>\n",
                        "\n",
                        "利用可能なツールは次のとおりです。\n",
                        "<tools>\n",
                        "<tool_description>\n",
                        "<tool_name>calculator</tool_name>\n",
                        "<description>\n",
                        "基本的な算術を行うための電卓関数です。\n",
                        "加算、減算、乗算をサポートしています。\n",
                        "</description>\n",
                        "<parameters>\n",
                        "<parameter>\n",
                        "<name>first_operand</name>\n",
                        "<type>int</type>\n",
                        "<description>第1オペランド（演算子の前）</description>\n",
                        "</parameter>\n",
                        "<parameter>\n",
                        "<name>second_operand</name>\n",
                        "<type>int</type>\n",
                        "<description>第2オペランド（演算子の後）</description>\n",
                        "</parameter>\n",
                        "<parameter>\n",
                        "<name>operator</name>\n",
                        "<type>str</type>\n",
                        "<description>実行する演算。+、-、*、/のいずれかでなければなりません</description>\n",
                        "</parameter>\n",
                        "</parameters>\n",
                        "</tool_description>\n",
                        "</tools>\n"
                    ]
                }
            ],
            "source": [
                "def construct_tool_use_system_prompt(tools):\n",
                " tool_use_system_prompt = (\n",
                " \"この環境では、ユーザーの質問に答えるための一連のツールにアクセスできます。\\n\"\n",
                " \"\\n\"\n",
                " \"次のように呼び出すことができます。\\n\"\n",
                " \"<function_calls>\\n\"\n",
                " \"<invoke>\\n\" \n",
                " \"<tool_name>$TOOL_NAME</tool_name>\\n\"\n",
                " \"<parameters>\\n\"\n",
                " \"<$PARAMETER_NAME>$PARAMETER_VALUE</$PARAMETER_NAME>\\n\"\n",
                " \"...\\n\"\n",
                " \"</parameters>\\n\"\n",
                " \"</invoke>\\n\"\n",
                " \"</function_calls>\\n\"\n",
                " \"\\n\"\n",
                " \"利用可能なツールは次のとおりです。\\n\"\n",
                " \"<tools>\\n\"\n",
                " + '\\n'.join([tool for tool in tools]) +\n",
                " \"\\n</tools>\"    )\n",
                "    return tool_use_system_prompt\n",
                "\n",
                "system_prompt = construct_tool_use_system_prompt([tool])\n",
                "print(system_prompt)"
            ]
        },
        {
            "cell_type": "markdown",
            "id": "6d56278d",
            "metadata": {},
            "source": [
                "次に必要なのは、このプロンプトを使ってクロードを呼び出すためのハーネスを作ることだけです。まず、このシステムプロンプトを与えて、以前と同じ質問をした場合のクロードの出力を見てみましょう。"
            ]
        },
        {
            "cell_type": "code",
            "execution_count": 8,
            "id": "7a9e0ed3",
            "metadata": {},
            "outputs": [
                {
                    "name": "stdout",
                    "output_type": "stream",
                    "text": [
                        "はい、それでは順を追って説明しましょう。\n",
                        "<function_calls>\n",
                        "<invoke>\n",
                        "<tool_name>calculator</tool_name>\n",
                        "<parameters>\n",
                        "<first_operand>1984135</first_operand>\n",
                        "<second_operand>9343116</second_operand>\n",
                        "<operator></operator>\n",
                        "</parameters>\n",
                        "</invoke>\n",
                        "\n"
                    ]
                }
            ],
            "source": []
        },
        {
            "cell_type": "markdown",
            "id": "cd4492fd",
            "metadata": {},
            "source": [
                "クロードは関数を正しく呼び出すことができました。次に、パラメータを抽出して、do_pairwise_arithmetic関数に送ります。"
            ]
        },
        {
            "cell_type": "code",
            "execution_count": 13,
            "id": "443ad932",
            "metadata": {},
            "outputs": [
                {
                    "name": "stdout",
                    "output_type": "stream",
                    "text": [
                        "18,538,003,464,660\n"
                    ]
                }
            ],
            "source": []
        },
        {
            "cell_type": "markdown",
            "id": "74043369",
            "metadata": {},
            "source": [
                "完璧です！あとは戻り値をクロードに渡して、ユーザーに最終的な値を返すだけです。まずクロードが期待する形式でフォーマットします。"
            ]
        },
        {
            "cell_type": "code",
            "execution_count": 14,
            "id": "bd847a70",
            "metadata": {},
            "outputs": [
                {
                    "name": "stdout",
                    "output_type": "stream",
                    "text": [
                        "<function_results>\n",
                        "<result>\n",
                        "<tool_name>do_pairwise_arithmetic</tool_name>\n",
                        "<stdout>\n",
                        "18538003464660\n",
                        "</stdout>\n",
                        "</result>\n",
                        "</function_results>\n"
                    ]
                }
            ],
            "source": []
        },
        {
            "cell_type": "markdown",
            "id": "9ecee356",
            "metadata": {},
            "source": [
                "次に、元のメッセージ、関数が呼び出されるまでのクロードの部分的なリターン、および関数の結果を組み合わせて、クロードに最終的な出力を生成するためのプロンプトを作成します。これを円滑にするためにassistantの役割でメッセージを事前に埋め込みます。"
            ]
        },
        {
            "cell_type": "code",
            "execution_count": 15,
            "id": "eb61ee06",
            "metadata": {},
            "outputs": [
                {
                    "name": "stdout",
                    "output_type": "stream",
                    "text": [
                        "はい、それでは順を追って説明しましょう。\n",
                        "<function_calls>\n",
                        "<invoke>\n",
                        "<tool_name>calculator</tool_name>\n",
                        "<parameters>\n",
                        "<first_operand>1984135</first_operand>\n",
                        "<second_operand>9343116</second_operand>\n",
                        "<operator></operator>\n",
                        "</parameters>\n",
                        "</invoke>\n",
                        "</function_calls><function_results>\n",
                        "<result>\n",
                        "<tool_name>do_pairwise_arithmetic</tool_name>\n",
                        "<stdout>\n",
                        "18538003464660\n",
                        "</stdout>\n",
                        "</result>\n",
                        "</function_results>\n",
                        "\n",
                        "したがって、1,984,135と9,343,116の掛け算の答えは18,538,003,464,660です。\n"
                    ]
                }
            ],
            "source": []
        },
        {
            "cell_type": "markdown",
            "id": "5e5854c0",
            "metadata": {},
            "source": [
                "成功です！ここで定義したプロンプトコンストラクタと関数呼び出しのパターンを使用して、独自の関数を実装できます。たとえば、検索、SQL、インターネットへの呼び出しなどです。最良の結果を得るには、こことanthropic-toolsリポジトリに示されている正確なシステムプロンプトのフォーマットと<function_calls>/<function_results>のフォーマットを使用してください。"
            ]
        }
    ],
    "metadata": {
        "kernelspec": {
            "display_name": "Python 3 (ipykernel)",
            "language": "python",
            "name": "python3"
        },
        "language_info": {
            "codemirror_mode": {
                "name": "ipython",
                "version": 3
            },
            "file_extension": ".py",
            "mimetype": "text/x-python",
            "name": "python",
            "nbconvert_exporter": "python",
            "pygments_lexer": "ipython3",
            "version": "3.10.12"
        }
    },
    "nbformat": 4,
    "nbformat_minor": 5
}
